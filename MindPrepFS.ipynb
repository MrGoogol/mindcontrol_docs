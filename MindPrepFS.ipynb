{
 "cells": [
  {
   "cell_type": "markdown",
   "metadata": {
    "deletable": true,
    "editable": true
   },
   "source": [
    "# Import FreeSurfer Subjects Directory Into Mindcontrol\n",
    "This work flow reads the SUBJECTS_DIR variable, converts all volumetric data from .mgz into .nii."
   ]
  },
  {
   "cell_type": "markdown",
   "metadata": {
    "deletable": true,
    "editable": true
   },
   "source": [
    "## Import necessary packages"
   ]
  },
  {
   "cell_type": "code",
   "execution_count": 1,
   "metadata": {
    "collapsed": false,
    "deletable": true,
    "editable": true
   },
   "outputs": [
    {
     "ename": "ImportError",
     "evalue": "No module named 'nibabel'",
     "output_type": "error",
     "traceback": [
      "\u001b[0;31m---------------------------------------------------------------------------\u001b[0m",
      "\u001b[0;31mImportError\u001b[0m                               Traceback (most recent call last)",
      "\u001b[0;32m<ipython-input-1-bca8bee9fb2d>\u001b[0m in \u001b[0;36m<module>\u001b[0;34m()\u001b[0m\n\u001b[1;32m      2\u001b[0m \u001b[0;32mimport\u001b[0m \u001b[0mos\u001b[0m\u001b[0;34m\u001b[0m\u001b[0m\n\u001b[1;32m      3\u001b[0m \u001b[0;32mimport\u001b[0m \u001b[0mos\u001b[0m\u001b[0;34m.\u001b[0m\u001b[0mpath\u001b[0m \u001b[0;32mas\u001b[0m \u001b[0mop\u001b[0m\u001b[0;34m\u001b[0m\u001b[0m\n\u001b[0;32m----> 4\u001b[0;31m \u001b[0;32mimport\u001b[0m \u001b[0mnibabel\u001b[0m \u001b[0;32mas\u001b[0m \u001b[0mnb\u001b[0m\u001b[0;34m\u001b[0m\u001b[0m\n\u001b[0m\u001b[1;32m      5\u001b[0m \u001b[0;32mfrom\u001b[0m \u001b[0mnipype\u001b[0m \u001b[0;32mimport\u001b[0m \u001b[0mMapNode\u001b[0m\u001b[0;34m,\u001b[0m \u001b[0mWorkflow\u001b[0m\u001b[0;34m,\u001b[0m \u001b[0mNode\u001b[0m\u001b[0;34m\u001b[0m\u001b[0m\n\u001b[1;32m      6\u001b[0m \u001b[0;32mfrom\u001b[0m \u001b[0mnipype\u001b[0m\u001b[0;34m.\u001b[0m\u001b[0minterfaces\u001b[0m\u001b[0;34m.\u001b[0m\u001b[0mfreesurfer\u001b[0m \u001b[0;32mimport\u001b[0m \u001b[0mMRIConvert\u001b[0m\u001b[0;34m\u001b[0m\u001b[0m\n",
      "\u001b[0;31mImportError\u001b[0m: No module named 'nibabel'"
     ]
    }
   ],
   "source": [
    "import os\n",
    "import os.path as op\n",
    "import nibabel as nb\n",
    "from glob import glob\n",
    "from IPython.display import Image\n",
    "from nipype import MapNode, Workflow, Node\n",
    "from nipype.interfaces.freesurfer import MRIConvert\n",
    "from nipype.interfaces.io import DataSink\n",
    "from nipype.interfaces.utility import IdentityInterface, Function\n",
    "from IPython.display import Image"
   ]
  },
  {
   "cell_type": "markdown",
   "metadata": {
    "deletable": true,
    "editable": true
   },
   "source": [
    "## Inputs and Outputs"
   ]
  },
  {
   "cell_type": "code",
   "execution_count": 2,
   "metadata": {
    "collapsed": false,
    "deletable": true,
    "editable": true
   },
   "outputs": [],
   "source": [
    "# Set SUBJECTS_DIR, if not set already \n",
    "os.environ[\"SUBJECTS_DIR\"] = \"/home/ltirrell/data/mindcontrol\"\n",
    "subjects_dir = os.environ[\"SUBJECTS_DIR\"]\n",
    "\n",
    "# Set Mindcontrol output directory\n",
    "mindcontrol_outdir = \"/home/ltirrell/projects/mindcontrol/base_dir\"\n",
    "\n",
    "# Select subjects to prepare (this will do all inside the SUBJECTS_DIR)\n",
    "subject_paths = glob(op.join(subjects_dir, \"*\"))\n",
    "\n",
    "# SUBJECTS_DIR sometimes contains directories that aren't subjects, don't grab them\n",
    "\n",
    "subjects = []\n",
    "for path in subject_paths:\n",
    "    subject = path.split('/')[-1]\n",
    "    # check if mri dir exists, and don't add fsaverage\n",
    "    if op.exists(op.join(path, 'mri')) and subject != 'fsaverage':\n",
    "        subjects.append(subject)\n",
    "\n",
    "\n",
    "# Volumes that will be prepared\n",
    "volumes = [\"brainmask.mgz\", \"wm.mgz\", \"aparc+aseg.mgz\", \"T1.mgz\"]"
   ]
  },
  {
   "cell_type": "markdown",
   "metadata": {
    "deletable": true,
    "editable": true
   },
   "source": [
    "## Helper functions"
   ]
  },
  {
   "cell_type": "code",
   "execution_count": 3,
   "metadata": {
    "collapsed": false,
    "deletable": true,
    "editable": true
   },
   "outputs": [],
   "source": [
    "def data_grabber(subjects_dir, subject, volumes):\n",
    "    import os\n",
    "    volumes_list = [os.path.join(subjects_dir, subject, 'mri', volume) for volume in volumes]\n",
    "    return volumes_list"
   ]
  },
  {
   "cell_type": "markdown",
   "metadata": {
    "deletable": true,
    "editable": true
   },
   "source": [
    "## Nodes"
   ]
  },
  {
   "cell_type": "code",
   "execution_count": 4,
   "metadata": {
    "collapsed": false,
    "deletable": true,
    "editable": true
   },
   "outputs": [],
   "source": [
    "input_node = Node(IdentityInterface(fields=['subject_id']), name='inputnode')\n",
    "input_node.iterables=(\"subject_id\", subjects)\n",
    "\n",
    "\n",
    "dg_node=Node(Function(input_names=[\"subjects_dir\", \"subject\", \"volumes\"],\n",
    "                      output_names=[\"volume_paths\"], \n",
    "                      function=data_grabber), \n",
    "             name=\"datagrab\")\n",
    "dg_node.inputs.subjects_dir = subjects_dir\n",
    "dg_node.inputs.volumes = volumes\n",
    "\n",
    "\n",
    "mriconvert_node = MapNode(MRIConvert(out_type=\"niigz\"), \n",
    "                          iterfield=[\"in_file\"], \n",
    "                          name='convert')\n",
    "\n",
    "\n",
    "datasink_node = Node(DataSink(base_directory=mindcontrol_outdir),\n",
    "                     name='datasink')\n",
    "subst = [('out_file',''),('_subject_id_',''),('_out','')]  + [(\"_convert%d\" % index, \"\") for index in range(len(volumes))] \n",
    "datasink_node.inputs.substitutions = subst"
   ]
  },
  {
   "cell_type": "markdown",
   "metadata": {
    "deletable": true,
    "editable": true
   },
   "source": [
    "## Workflow"
   ]
  },
  {
   "cell_type": "code",
   "execution_count": 5,
   "metadata": {
    "collapsed": false,
    "deletable": true,
    "editable": true
   },
   "outputs": [
    {
     "name": "stdout",
     "output_type": "stream",
     "text": [
      "170404-10:56:42,364 workflow INFO:\n",
      "\t Creating detailed dot file: /home/ltirrell/projects/mindcontrol/scratch/MindPrepFS/graph_detailed.dot\n",
      "170404-10:56:42,495 workflow INFO:\n",
      "\t Creating dot file: /home/ltirrell/projects/mindcontrol/scratch/MindPrepFS/graph.dot\n",
      "170404-10:56:42,578 workflow INFO:\n",
      "\t Workflow MindPrepFS settings: ['check', 'execution', 'logging']\n",
      "170404-10:56:42,597 workflow INFO:\n",
      "\t Running serially.\n",
      "170404-10:56:42,598 workflow INFO:\n",
      "\t Executing node datagrab.a1 in dir: /home/ltirrell/projects/mindcontrol/scratch/MindPrepFS/_subject_id_sub-01/datagrab\n",
      "170404-10:56:42,602 workflow INFO:\n",
      "\t Collecting precomputed outputs\n",
      "170404-10:56:42,612 workflow INFO:\n",
      "\t Executing node convert.a1 in dir: /home/ltirrell/projects/mindcontrol/scratch/MindPrepFS/_subject_id_sub-01/convert\n",
      "170404-10:56:42,623 workflow INFO:\n",
      "\t Executing node datasink.a1 in dir: /home/ltirrell/projects/mindcontrol/scratch/MindPrepFS/_subject_id_sub-01/datasink\n",
      "170404-10:56:42,755 interface INFO:\n",
      "\t sub: /home/ltirrell/projects/mindcontrol/base_dir/out_file/_subject_id_sub-01/_convert0/brainmask_out.nii.gz -> /home/ltirrell/projects/mindcontrol/base_dir//sub-01//brainmask.nii.gz\n",
      "170404-10:56:42,756 interface INFO:\n",
      "\t sub: /home/ltirrell/projects/mindcontrol/base_dir/out_file/_subject_id_sub-01/_convert1/wm_out.nii.gz -> /home/ltirrell/projects/mindcontrol/base_dir//sub-01//wm.nii.gz\n",
      "170404-10:56:42,758 interface INFO:\n",
      "\t sub: /home/ltirrell/projects/mindcontrol/base_dir/out_file/_subject_id_sub-01/_convert2/aparc+aseg_out.nii.gz -> /home/ltirrell/projects/mindcontrol/base_dir//sub-01//aparc+aseg.nii.gz\n",
      "170404-10:56:42,759 interface INFO:\n",
      "\t sub: /home/ltirrell/projects/mindcontrol/base_dir/out_file/_subject_id_sub-01/_convert3/T1_out.nii.gz -> /home/ltirrell/projects/mindcontrol/base_dir//sub-01//T1.nii.gz\n",
      "170404-10:56:42,778 workflow INFO:\n",
      "\t Executing node datagrab.a0 in dir: /home/ltirrell/projects/mindcontrol/scratch/MindPrepFS/_subject_id_sub-02/datagrab\n",
      "170404-10:56:42,783 workflow INFO:\n",
      "\t Collecting precomputed outputs\n",
      "170404-10:56:42,788 workflow INFO:\n",
      "\t Executing node convert.a0 in dir: /home/ltirrell/projects/mindcontrol/scratch/MindPrepFS/_subject_id_sub-02/convert\n",
      "170404-10:56:42,793 workflow INFO:\n",
      "\t Executing node datasink.a0 in dir: /home/ltirrell/projects/mindcontrol/scratch/MindPrepFS/_subject_id_sub-02/datasink\n",
      "170404-10:56:42,875 interface INFO:\n",
      "\t sub: /home/ltirrell/projects/mindcontrol/base_dir/out_file/_subject_id_sub-02/_convert0/brainmask_out.nii.gz -> /home/ltirrell/projects/mindcontrol/base_dir//sub-02//brainmask.nii.gz\n",
      "170404-10:56:42,877 interface INFO:\n",
      "\t sub: /home/ltirrell/projects/mindcontrol/base_dir/out_file/_subject_id_sub-02/_convert1/wm_out.nii.gz -> /home/ltirrell/projects/mindcontrol/base_dir//sub-02//wm.nii.gz\n",
      "170404-10:56:42,889 interface INFO:\n",
      "\t sub: /home/ltirrell/projects/mindcontrol/base_dir/out_file/_subject_id_sub-02/_convert2/aparc+aseg_out.nii.gz -> /home/ltirrell/projects/mindcontrol/base_dir//sub-02//aparc+aseg.nii.gz\n",
      "170404-10:56:42,893 interface INFO:\n",
      "\t sub: /home/ltirrell/projects/mindcontrol/base_dir/out_file/_subject_id_sub-02/_convert3/T1_out.nii.gz -> /home/ltirrell/projects/mindcontrol/base_dir//sub-02//T1.nii.gz\n"
     ]
    },
    {
     "data": {
      "text/plain": [
       "<networkx.classes.digraph.DiGraph at 0x7f3e5ed632e8>"
      ]
     },
     "execution_count": 5,
     "metadata": {},
     "output_type": "execute_result"
    }
   ],
   "source": [
    "wf = Workflow(name=\"MindPrepFS\")\n",
    "wf.base_dir = \"/home/ltirrell/projects/mindcontrol/scratch\"\n",
    "wf.connect(input_node,\"subject_id\", dg_node,\"subject\")\n",
    "wf.connect(dg_node,\"volume_paths\", mriconvert_node, \"in_file\")\n",
    "wf.connect(mriconvert_node,'out_file',datasink_node,'out_file')\n",
    "wf.write_graph(graph2use='exec')\n",
    "\n",
    "wf.run()"
   ]
  },
  {
   "cell_type": "code",
   "execution_count": 6,
   "metadata": {
    "collapsed": false
   },
   "outputs": [
    {
     "data": {
      "image/png": "[encoded data removed]",
      "text/plain": [
       "<IPython.core.display.Image object>"
      ]
     },
     "execution_count": 6,
     "metadata": {},
     "output_type": "execute_result"
    }
   ],
   "source": [
    "Image('/home/ltirrell/projects/mindcontrol/scratch/MindPrepFS/graph_detailed.dot.png')"
   ]
  }
 ],
 "metadata": {
  "kernelspec": {
   "display_name": "Python 3",
   "language": "python",
   "name": "python3"
  },
  "language_info": {
   "codemirror_mode": {
    "name": "ipython",
    "version": 3
   },
   "file_extension": ".py",
   "mimetype": "text/x-python",
   "name": "python",
   "nbconvert_exporter": "python",
   "pygments_lexer": "ipython3",
   "version": "3.6.0"
  }
 },
 "nbformat": 4,
 "nbformat_minor": 2
}
