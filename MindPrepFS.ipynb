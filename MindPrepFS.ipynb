{
 "cells": [
  {
   "cell_type": "markdown",
   "metadata": {},
   "source": [
    "# Setting up Mindcontrol to QC Freesurfer Outputs\n",
    "\n",
    "This tutorial will set up a Mindcontrol instance for Freesurfer output QC. The first step is to clone the Mindcontrol repository from GitHub and checkout the FreeSurfer branch:\n",
    "\n",
    "```bash\n",
    "git clone https://github.com/akeshavan/mindcontrol\n",
    "cd mindcontrol\n",
    "git checkout origin/FreeSurfer\n",
    "```\n",
    "\n",
    "Then start Mindcontroln typing `meteor`:\n",
    "\n",
    "```bash\n",
    "meteor\n",
    "```\n",
    "\n",
    "Navigate to http://localhost:3000, you should see an empty Mindcontrol UI:\n",
    "\n",
    "![](images/freesurfer_empty_instance.png)"
   ]
  },
  {
   "cell_type": "markdown",
   "metadata": {
    "deletable": true,
    "editable": true
   },
   "source": [
    "## Import FreeSurfer Subjects Directory Into Mindcontrol\n",
    "This work flow reads the SUBJECTS_DIR variable, converts all volumetric data from .mgz into .nii."
   ]
  },
  {
   "cell_type": "markdown",
   "metadata": {
    "deletable": true,
    "editable": true
   },
   "source": [
    "### Import necessary packages"
   ]
  },
  {
   "cell_type": "code",
   "execution_count": 1,
   "metadata": {
    "collapsed": false,
    "deletable": true,
    "editable": true
   },
   "outputs": [],
   "source": [
    "import os\n",
    "import os.path as op\n",
    "import nibabel as nb\n",
    "from glob import glob\n",
    "from IPython.display import Image\n",
    "from nipype import MapNode, Workflow, Node\n",
    "from nipype.interfaces.freesurfer import MRIConvert\n",
    "from nipype.interfaces.io import DataSink\n",
    "from nipype.interfaces.utility import IdentityInterface, Function\n",
    "from IPython.display import Image"
   ]
  },
  {
   "cell_type": "markdown",
   "metadata": {},
   "source": [
    "### Set your directories"
   ]
  },
  {
   "cell_type": "code",
   "execution_count": 2,
   "metadata": {
    "collapsed": true
   },
   "outputs": [],
   "source": [
    "# Set SUBJECTS_DIR, from Freesurfer\n",
    "subjects_dir = os.path.abspath(\"../data/ds000114/derivatives/freesurfer/\")\n",
    "# Set the directory to save converted Freesurfer outputs (ideally, the mindcontrol base dir)\n",
    "mindcontrol_base_dir = os.path.abspath(\"./mindcontrol_base_dir\")\n",
    "mindcontrol_outdir = os.path.abspath(\"./mindcontrol_base_dir/freesurfer\")\n",
    "# Set the directory where the nipype workflow saves intermediary files\n",
    "workflow_working_dir = os.path.abspath(\"./scratch\")"
   ]
  },
  {
   "cell_type": "markdown",
   "metadata": {
    "deletable": true,
    "editable": true
   },
   "source": [
    "### Find all subjects in the Freesurfer directory"
   ]
  },
  {
   "cell_type": "code",
   "execution_count": 21,
   "metadata": {
    "collapsed": false,
    "deletable": true,
    "editable": true
   },
   "outputs": [],
   "source": [
    "# Select subjects to prepare (this will do all inside the SUBJECTS_DIR)\n",
    "subject_paths = glob(op.join(subjects_dir, \"*\"))\n",
    "\n",
    "# SUBJECTS_DIR sometimes contains directories that aren't subjects, don't grab them\n",
    "\n",
    "subjects = []\n",
    "for path in subject_paths:\n",
    "    subject = path.split('/')[-1]\n",
    "    # check if mri dir exists, and don't add fsaverage\n",
    "    if op.exists(op.join(path, 'mri')) and subject != 'fsaverage':\n",
    "        subjects.append(subject)\n",
    "\n",
    "\n",
    "# Volumes that will be prepared\n",
    "volumes = [\"brainmask.mgz\", \"wm.mgz\", \"aparc+aseg.mgz\", \"T1.mgz\"]"
   ]
  },
  {
   "cell_type": "markdown",
   "metadata": {
    "deletable": true,
    "editable": true
   },
   "source": [
    "### Helper functions"
   ]
  },
  {
   "cell_type": "code",
   "execution_count": 22,
   "metadata": {
    "collapsed": false,
    "deletable": true,
    "editable": true
   },
   "outputs": [],
   "source": [
    "def data_grabber(subjects_dir, subject, volumes):\n",
    "    import os\n",
    "    volumes_list = [os.path.join(subjects_dir, subject, 'mri', volume) for volume in volumes]\n",
    "    return volumes_list"
   ]
  },
  {
   "cell_type": "code",
   "execution_count": 23,
   "metadata": {
    "collapsed": true
   },
   "outputs": [],
   "source": [
    "def parse_stats(subjects_dir, subject):\n",
    "    from os.path import join, exists\n",
    "    \n",
    "    aseg_file = join(subjects_dir, subject, \"stats\", \"aseg.stats\")\n",
    "    lh_aparc = join(subjects_dir, subject, \"stats\", \"lh.aparc.stats\")\n",
    "    rh_aparc = join(subjects_dir, subject, \"stats\", \"rh.aparc.stats\")\n",
    "    \n",
    "    assert exists(aseg_file), \"aseg file does not exists for %s\" %subject\n",
    "    assert exists(lh_aparc), \"lh aparc file does not exists for %s\" %subject\n",
    "    assert exists(rh_aparc), \"rh aparc file does not exists for %s\" %subject\n",
    "    \n",
    "    def convert_stats_to_json(aseg_file, lh_aparc, rh_aparc):\n",
    "        import pandas as pd\n",
    "        import numpy as np\n",
    "\n",
    "        def extract_other_vals_from_aseg(f):\n",
    "            line_numbers = [18,23,21,33,22]\n",
    "            output = pd.DataFrame()\n",
    "            with open(f,\"r\") as q:\n",
    "                out = q.readlines()\n",
    "                for line in line_numbers:\n",
    "                    sname= out[line].split(\",\")[1][1:]\n",
    "                    vol = out[line].split(\",\")[-2]\n",
    "                    output = output.append(pd.Series({\"StructName\":sname,\"Volume_mm3\":vol}),ignore_index=True)\n",
    "            return output\n",
    "\n",
    "        df = pd.DataFrame(np.genfromtxt(aseg_file,dtype=str),columns=[\"Index\",\n",
    "                                                            \"SegId\",\n",
    "                                                            \"NVoxels\",\n",
    "                                                            \"Volume_mm3\",\n",
    "                                                            \"StructName\",\n",
    "                                                            \"normMean\",\n",
    "                                                            \"normStdDev\",\n",
    "                                                            \"normMin\",\n",
    "                                                            \"normMax\",\n",
    "                                                            \"normRange\"])\n",
    "\n",
    "        df = df.append(extract_other_vals_from_aseg(aseg_file), ignore_index=True)\n",
    "        \n",
    "        aparc_columns = [\"StructName\", \"NumVert\", \"SurfArea\", \"GrayVol\",\n",
    "                         \"ThickAvg\", \"ThickStd\", \"MeanCurv\", \"GausCurv\",\n",
    "                         \"FoldInd\", \"CurvInd\"]\n",
    "        tmp_lh = pd.DataFrame(np.genfromtxt(lh_aparc,dtype=str),columns=aparc_columns)\n",
    "        tmp_lh[\"StructName\"] = \"lh_\"+tmp_lh[\"StructName\"]\n",
    "        tmp_rh = pd.DataFrame(np.genfromtxt(rh_aparc,dtype=str),columns=aparc_columns)\n",
    "        tmp_rh[\"StructName\"] = \"rh_\"+tmp_rh[\"StructName\"]\n",
    "\n",
    "        aseg_melt = pd.melt(df[[\"StructName\",\"Volume_mm3\"]], id_vars=[\"StructName\"])\n",
    "        aseg_melt.rename(columns={\"StructName\": \"name\"},inplace=True)\n",
    "        aseg_melt[\"value\"] = aseg_melt[\"value\"].astype(float)\n",
    "        \n",
    "        lh_aparc_melt = pd.melt(tmp_lh,id_vars=[\"StructName\"])\n",
    "        lh_aparc_melt[\"value\"] = lh_aparc_melt[\"value\"].astype(float)\n",
    "        lh_aparc_melt[\"name\"] = lh_aparc_melt[\"StructName\"]+ \"_\"+lh_aparc_melt[\"variable\"]\n",
    "        \n",
    "        rh_aparc_melt = pd.melt(tmp_rh, id_vars=[\"StructName\"])\n",
    "        rh_aparc_melt[\"value\"] = rh_aparc_melt[\"value\"].astype(float)\n",
    "        rh_aparc_melt[\"name\"] = rh_aparc_melt[\"StructName\"]+ \"_\"+rh_aparc_melt[\"variable\"]\n",
    "        \n",
    "        output = aseg_melt[[\"name\",\n",
    "                            \"value\"]].append(lh_aparc_melt[[\"name\",\n",
    "                                                            \"value\"]],\n",
    "                                             ignore_index=True).append(rh_aparc_melt[[\"name\",\n",
    "                                                                                      \"value\"]],\n",
    "                                                                       ignore_index=True)\n",
    "        outdict = output.to_dict(orient=\"records\")\n",
    "        final_dict = {}\n",
    "        for pair in outdict:\n",
    "            final_dict[pair[\"name\"]] = pair[\"value\"]\n",
    "        return final_dict\n",
    "    \n",
    "    output_dict = convert_stats_to_json(aseg_file, lh_aparc, rh_aparc)\n",
    "    return output_dict\n",
    "    "
   ]
  },
  {
   "cell_type": "code",
   "execution_count": 24,
   "metadata": {
    "collapsed": true
   },
   "outputs": [],
   "source": [
    "def create_mindcontrol_entries(mindcontrol_base_dir, output_dir, subject, stats):\n",
    "    import os\n",
    "    from nipype.utils.filemanip import save_json\n",
    "    \n",
    "    metric_split = {\"brainmask\": [\"eTIV\", \"CortexVol\", \"TotalGrayVol\"],\n",
    "                    \"wm\": [\"CorticalWhiteMatterVol\",\"WM-hypointensities\", \n",
    "                           \"Right-WM-hypointensities\",\"Left-WM-hypointensities\"],\n",
    "                    \"aparcaseg\":[]}\n",
    "    \n",
    "    volumes = [\"brainmask.nii.gz\", \"wm.nii.gz\", \"aparc+aseg.nii.gz\", \"T1.nii.gz\"]\n",
    "    volumes_list = [os.path.join(output_dir, subject, volume) for volume in volumes]\n",
    "\n",
    "    all_entries = []\n",
    "    \n",
    "    for idx, entry_type in enumerate([\"brainmask\", \"wm\", \"aparcaseg\"]):\n",
    "        entry = {\"entry_type\":entry_type, \n",
    "                 \"subject_id\": subject, \n",
    "                 \"name\": subject}\n",
    "        base_img = os.path.relpath(volumes_list[-1], mindcontrol_base_dir)\n",
    "        overlay_img = os.path.relpath(volumes_list[idx], mindcontrol_base_dir)\n",
    "        entry[\"check_masks\"] = [base_img, overlay_img]\n",
    "        entry[\"metrics\"] = {}\n",
    "        for metric_name in metric_split[entry_type]:\n",
    "            entry[\"metrics\"][metric_name] = stats.pop(metric_name)\n",
    "        if not len(metric_split[entry_type]):\n",
    "            entry[\"metrics\"] = stats\n",
    "        all_entries.append(entry)\n",
    "    \n",
    "    output_json = os.path.abspath(\"mindcontrol_entries.json\")\n",
    "    save_json(output_json, all_entries)\n",
    "    return output_json"
   ]
  },
  {
   "cell_type": "markdown",
   "metadata": {
    "deletable": true,
    "editable": true
   },
   "source": [
    "### Nodes"
   ]
  },
  {
   "cell_type": "code",
   "execution_count": 25,
   "metadata": {
    "collapsed": false,
    "deletable": true,
    "editable": true
   },
   "outputs": [],
   "source": [
    "input_node = Node(IdentityInterface(fields=['subject_id',\"subjects_dir\",\n",
    "                                            \"mindcontrol_base_dir\", \"output_dir\"]), name='inputnode')\n",
    "input_node.iterables=(\"subject_id\", subjects)\n",
    "input_node.inputs.subjects_dir = subjects_dir\n",
    "input_node.inputs.mindcontrol_base_dir = mindcontrol_base_dir\n",
    "input_node.inputs.output_dir = mindcontrol_outdir\n",
    "\n",
    "dg_node=Node(Function(input_names=[\"subjects_dir\", \"subject\", \"volumes\"],\n",
    "                      output_names=[\"volume_paths\"], \n",
    "                      function=data_grabber), \n",
    "             name=\"datagrab\")\n",
    "#dg_node.inputs.subjects_dir = subjects_dir\n",
    "dg_node.inputs.volumes = volumes\n",
    "\n",
    "\n",
    "mriconvert_node = MapNode(MRIConvert(out_type=\"niigz\"), \n",
    "                          iterfield=[\"in_file\"], \n",
    "                          name='convert')\n",
    "\n",
    "get_stats_node = Node(Function(input_names=[\"subjects_dir\", \"subject\"],\n",
    "                               output_names = [\"output_dict\"],\n",
    "                               function=parse_stats), name=\"get_freesurfer_stats\")\n",
    "\n",
    "write_mindcontrol_entries = Node(Function(input_names = [\"mindcontrol_base_dir\",\n",
    "                                                         \"output_dir\",\n",
    "                                                         \"subject\",\n",
    "                                                         \"stats\"],\n",
    "                                          output_names=[\"output_json\"],\n",
    "                                          function=create_mindcontrol_entries), \n",
    "                                 name=\"get_mindcontrol_entries\")\n",
    "\n",
    "datasink_node = Node(DataSink(),\n",
    "                     name='datasink')\n",
    "subst = [('out_file',''),('_subject_id_',''),('_out','')]  + [(\"_convert%d\" % index, \"\") for index in range(len(volumes))] \n",
    "datasink_node.inputs.substitutions = subst"
   ]
  },
  {
   "cell_type": "markdown",
   "metadata": {
    "deletable": true,
    "editable": true
   },
   "source": [
    "### Workflow"
   ]
  },
  {
   "cell_type": "code",
   "execution_count": 54,
   "metadata": {
    "collapsed": false,
    "deletable": true,
    "editable": true
   },
   "outputs": [
    {
     "name": "stdout",
     "output_type": "stream",
     "text": [
      "170405-01:55:01,138 workflow INFO:\n",
      "\t Generated workflow graph: /home/jovyan/work/mindcontrol_docs/scratch/MindPrepFS/graph_detailed.dot.png (graph2use=exec, simple_form=True).\n",
      "170405-01:55:01,159 workflow INFO:\n",
      "\t Workflow MindPrepFS settings: ['check', 'execution', 'logging']\n",
      "170405-01:55:01,309 workflow INFO:\n",
      "\t Running serially.\n",
      "170405-01:55:01,312 workflow INFO:\n",
      "\t Executing node datagrab.a1 in dir: /home/jovyan/work/mindcontrol_docs/scratch/MindPrepFS/_subject_id_sub-02/datagrab\n",
      "170405-01:55:01,342 workflow INFO:\n",
      "\t Collecting precomputed outputs\n",
      "170405-01:55:01,407 workflow INFO:\n",
      "\t Executing node datagrab.a0 in dir: /home/jovyan/work/mindcontrol_docs/scratch/MindPrepFS/_subject_id_sub-01/datagrab\n",
      "170405-01:55:01,461 workflow INFO:\n",
      "\t Collecting precomputed outputs\n",
      "170405-01:55:01,535 workflow INFO:\n",
      "\t Executing node get_freesurfer_stats.a1 in dir: /home/jovyan/work/mindcontrol_docs/scratch/MindPrepFS/_subject_id_sub-02/get_freesurfer_stats\n",
      "170405-01:55:01,588 workflow INFO:\n",
      "\t Collecting precomputed outputs\n",
      "170405-01:55:01,624 workflow INFO:\n",
      "\t Executing node get_freesurfer_stats.a0 in dir: /home/jovyan/work/mindcontrol_docs/scratch/MindPrepFS/_subject_id_sub-01/get_freesurfer_stats\n",
      "170405-01:55:01,685 workflow INFO:\n",
      "\t Collecting precomputed outputs\n",
      "170405-01:55:01,752 workflow INFO:\n",
      "\t Executing node get_mindcontrol_entries.a0 in dir: /home/jovyan/work/mindcontrol_docs/scratch/MindPrepFS/_subject_id_sub-01/get_mindcontrol_entries\n",
      "170405-01:55:02,244 workflow INFO:\n",
      "\t Executing node convert.a0 in dir: /home/jovyan/work/mindcontrol_docs/scratch/MindPrepFS/_subject_id_sub-01/convert\n",
      "170405-01:55:02,619 workflow INFO:\n",
      "\t Executing node datasink.a0 in dir: /home/jovyan/work/mindcontrol_docs/scratch/MindPrepFS/_subject_id_sub-01/datasink\n",
      "170405-01:55:02,829 interface INFO:\n",
      "\t sub: /home/jovyan/work/mindcontrol_docs/mindcontrol_base_dir/freesurfer/out_file/_subject_id_sub-01/mindcontrol_entries.json -> /home/jovyan/work/mindcontrol_docs/mindcontrol_base_dir/freesurfer//sub-01/mindcontrol_entries.json\n",
      "170405-01:55:02,853 interface INFO:\n",
      "\t sub: /home/jovyan/work/mindcontrol_docs/mindcontrol_base_dir/freesurfer/out_file/_subject_id_sub-01/_convert0/brainmask_out.nii.gz -> /home/jovyan/work/mindcontrol_docs/mindcontrol_base_dir/freesurfer//sub-01//brainmask.nii.gz\n",
      "170405-01:55:03,40 interface INFO:\n",
      "\t sub: /home/jovyan/work/mindcontrol_docs/mindcontrol_base_dir/freesurfer/out_file/_subject_id_sub-01/_convert1/wm_out.nii.gz -> /home/jovyan/work/mindcontrol_docs/mindcontrol_base_dir/freesurfer//sub-01//wm.nii.gz\n",
      "170405-01:55:03,143 interface INFO:\n",
      "\t sub: /home/jovyan/work/mindcontrol_docs/mindcontrol_base_dir/freesurfer/out_file/_subject_id_sub-01/_convert2/aparc+aseg_out.nii.gz -> /home/jovyan/work/mindcontrol_docs/mindcontrol_base_dir/freesurfer//sub-01//aparc+aseg.nii.gz\n",
      "170405-01:55:03,268 interface INFO:\n",
      "\t sub: /home/jovyan/work/mindcontrol_docs/mindcontrol_base_dir/freesurfer/out_file/_subject_id_sub-01/_convert3/T1_out.nii.gz -> /home/jovyan/work/mindcontrol_docs/mindcontrol_base_dir/freesurfer//sub-01//T1.nii.gz\n",
      "170405-01:55:03,616 workflow INFO:\n",
      "\t Executing node convert.a1 in dir: /home/jovyan/work/mindcontrol_docs/scratch/MindPrepFS/_subject_id_sub-02/convert\n",
      "170405-01:55:03,910 workflow INFO:\n",
      "\t Executing node get_mindcontrol_entries.a1 in dir: /home/jovyan/work/mindcontrol_docs/scratch/MindPrepFS/_subject_id_sub-02/get_mindcontrol_entries\n",
      "170405-01:55:04,232 workflow INFO:\n",
      "\t Executing node datasink.a1 in dir: /home/jovyan/work/mindcontrol_docs/scratch/MindPrepFS/_subject_id_sub-02/datasink\n",
      "170405-01:55:04,431 interface INFO:\n",
      "\t sub: /home/jovyan/work/mindcontrol_docs/mindcontrol_base_dir/freesurfer/out_file/_subject_id_sub-02/mindcontrol_entries.json -> /home/jovyan/work/mindcontrol_docs/mindcontrol_base_dir/freesurfer//sub-02/mindcontrol_entries.json\n",
      "170405-01:55:04,463 interface INFO:\n",
      "\t sub: /home/jovyan/work/mindcontrol_docs/mindcontrol_base_dir/freesurfer/out_file/_subject_id_sub-02/_convert0/brainmask_out.nii.gz -> /home/jovyan/work/mindcontrol_docs/mindcontrol_base_dir/freesurfer//sub-02//brainmask.nii.gz\n",
      "170405-01:55:04,688 interface INFO:\n",
      "\t sub: /home/jovyan/work/mindcontrol_docs/mindcontrol_base_dir/freesurfer/out_file/_subject_id_sub-02/_convert1/wm_out.nii.gz -> /home/jovyan/work/mindcontrol_docs/mindcontrol_base_dir/freesurfer//sub-02//wm.nii.gz\n",
      "170405-01:55:04,802 interface INFO:\n",
      "\t sub: /home/jovyan/work/mindcontrol_docs/mindcontrol_base_dir/freesurfer/out_file/_subject_id_sub-02/_convert2/aparc+aseg_out.nii.gz -> /home/jovyan/work/mindcontrol_docs/mindcontrol_base_dir/freesurfer//sub-02//aparc+aseg.nii.gz\n",
      "170405-01:55:04,896 interface INFO:\n",
      "\t sub: /home/jovyan/work/mindcontrol_docs/mindcontrol_base_dir/freesurfer/out_file/_subject_id_sub-02/_convert3/T1_out.nii.gz -> /home/jovyan/work/mindcontrol_docs/mindcontrol_base_dir/freesurfer//sub-02//T1.nii.gz\n"
     ]
    },
    {
     "data": {
      "text/plain": [
       "<networkx.classes.digraph.DiGraph at 0x7f33143e06a0>"
      ]
     },
     "execution_count": 54,
     "metadata": {},
     "output_type": "execute_result"
    }
   ],
   "source": [
    "wf = Workflow(name=\"MindPrepFS\")\n",
    "wf.base_dir = workflow_working_dir\n",
    "wf.connect(input_node,\"subject_id\", dg_node,\"subject\")\n",
    "wf.connect(input_node,\"subjects_dir\", dg_node, \"subjects_dir\")\n",
    "wf.connect(input_node, \"subject_id\", get_stats_node, \"subject\")\n",
    "wf.connect(input_node, \"subjects_dir\", get_stats_node, \"subjects_dir\")\n",
    "wf.connect(input_node, \"subject_id\", write_mindcontrol_entries, \"subject\")\n",
    "wf.connect(input_node, \"mindcontrol_base_dir\", write_mindcontrol_entries, \"mindcontrol_base_dir\")\n",
    "wf.connect(input_node, \"output_dir\", write_mindcontrol_entries, \"output_dir\")\n",
    "wf.connect(get_stats_node, \"output_dict\", write_mindcontrol_entries, \"stats\")\n",
    "wf.connect(input_node, \"output_dir\", datasink_node, \"base_directory\")\n",
    "wf.connect(dg_node,\"volume_paths\", mriconvert_node, \"in_file\")\n",
    "wf.connect(mriconvert_node,'out_file',datasink_node,'out_file')\n",
    "wf.connect(write_mindcontrol_entries, \"output_json\", datasink_node, \"out_file.@json\")\n",
    "wf.write_graph(graph2use='exec')\n",
    "wf.run()"
   ]
  },
  {
   "cell_type": "code",
   "execution_count": 56,
   "metadata": {
    "collapsed": false
   },
   "outputs": [
    {
     "data": {
      "text/plain": [
       "['aparc+aseg.nii.gz',\n",
       " 'brainmask.nii.gz',\n",
       " 'mindcontrol_entries.json',\n",
       " 'T1.nii.gz',\n",
       " 'wm.nii.gz']"
      ]
     },
     "execution_count": 56,
     "metadata": {},
     "output_type": "execute_result"
    }
   ],
   "source": [
    "os.listdir(os.path.join(mindcontrol_outdir,subjects[0]))"
   ]
  },
  {
   "cell_type": "code",
   "execution_count": 53,
   "metadata": {
    "collapsed": false,
    "deletable": true,
    "editable": true
   },
   "outputs": [
    {
     "data": {
      "image/png": "[encoded data removed]",
      "text/plain": [
       "<IPython.core.display.Image object>"
      ]
     },
     "execution_count": 53,
     "metadata": {},
     "output_type": "execute_result"
    }
   ],
   "source": [
    "Image(os.path.join(workflow_working_dir, 'MindPrepFS/graph_detailed.dot.png'))"
   ]
  },
  {
   "cell_type": "markdown",
   "metadata": {},
   "source": [
    "## Load JSON entries into the Mindcontrol database:"
   ]
  },
  {
   "cell_type": "code",
   "execution_count": 6,
   "metadata": {
    "collapsed": true
   },
   "outputs": [],
   "source": [
    "def get_collection(port=3001):\n",
    "    from pymongo import MongoClient\n",
    "    client = MongoClient(\"localhost\", port)\n",
    "    db =  client.meteor\n",
    "    collection = db.subjects\n",
    "    return collection, client"
   ]
  },
  {
   "cell_type": "code",
   "execution_count": 20,
   "metadata": {
    "collapsed": false
   },
   "outputs": [],
   "source": [
    "from nipype.utils.filemanip import load_json\n",
    "\n",
    "\n",
    "coll, cli = get_collection()\n",
    "\n",
    "for entry_file in glob(os.path.join(mindcontrol_outdir,\"*\",\"mindcontrol_entries.json\")):\n",
    "    data = load_json(entry_file)\n",
    "    for d in data:\n",
    "        name, entry_type = d[\"name\"], d[\"entry_type\"]\n",
    "        query = {\"name\": name, \"entry_type\": entry_type}\n",
    "        res = coll.find_one(query)\n",
    "        if not res:\n",
    "            coll.insert_one(d)\n",
    "        else:\n",
    "            coll.update_one(query, {\"$set\": d})\n",
    "        \n",
    "    "
   ]
  },
  {
   "cell_type": "markdown",
   "metadata": {},
   "source": [
    "You should now see something like:\n",
    "    \n",
    "![](images/freesurfer_instance.png)"
   ]
  },
  {
   "cell_type": "code",
   "execution_count": null,
   "metadata": {
    "collapsed": true
   },
   "outputs": [],
   "source": []
  }
 ],
 "metadata": {
  "kernelspec": {
   "display_name": "Python 3",
   "language": "python",
   "name": "python3"
  },
  "language_info": {
   "codemirror_mode": {
    "name": "ipython",
    "version": 3
   },
   "file_extension": ".py",
   "mimetype": "text/x-python",
   "name": "python",
   "nbconvert_exporter": "python",
   "pygments_lexer": "ipython3",
   "version": "3.6.0"
  }
 },
 "nbformat": 4,
 "nbformat_minor": 2
}
