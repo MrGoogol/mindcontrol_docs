{
 "cells": [
  {
   "cell_type": "markdown",
   "metadata": {},
   "source": [
    "# Installing Mindcontrol"
   ]
  },
  {
   "cell_type": "markdown",
   "metadata": {},
   "source": [
    "1. Install meteor\n",
    "\n",
    "```bash\n",
    "curl https://install.meteor.com/ | sh\n",
    "```\n",
    "\n",
    "2. Clone mindcontrol\n",
    "\n",
    "```bash\n",
    "git clone https://github.com/akeshavan/mindcontrol.git\n",
    "```\n",
    "\n",
    "3. Start the server\n",
    "\n",
    "```bash\n",
    "cd mindcontrol\n",
    "meteor\n",
    "```\n",
    "\n",
    "4. Navigate to http://localhost:3000 in your chrome browser.\n",
    "You should see the default entries loaded into the mindcontrol database. It should look like mindcontrol.herokuapp.com\n",
    "\n",
    "<iframe width=\"420\" height=\"315\" src=\"mindcontrol.herokuapp.com\" frameborder=\"0\" allowfullscreen></iframe>\n"
   ]
  },
  {
   "cell_type": "code",
   "execution_count": null,
   "metadata": {
    "collapsed": true
   },
   "outputs": [],
   "source": []
  }
 ],
 "metadata": {
  "kernelspec": {
   "display_name": "Python 3",
   "language": "python",
   "name": "python3"
  },
  "language_info": {
   "codemirror_mode": {
    "name": "ipython",
    "version": 3
   },
   "file_extension": ".py",
   "mimetype": "text/x-python",
   "name": "python",
   "nbconvert_exporter": "python",
   "pygments_lexer": "ipython3",
   "version": "3.6.0"
  }
 },
 "nbformat": 4,
 "nbformat_minor": 2
}
