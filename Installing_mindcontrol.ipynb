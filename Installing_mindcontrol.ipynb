{
 "cells": [
  {
   "cell_type": "markdown",
   "metadata": {},
   "source": [
    "# Installing Mindcontrol"
   ]
  },
  {
   "cell_type": "markdown",
   "metadata": {},
   "source": [
    "1. Install meteor\n",
    "\n",
    "    ```bash\n",
    "    curl https://install.meteor.com/ | sh\n",
    "    ```\n",
    "\n",
    "2. Clone mindcontrol\n",
    "\n",
    "    ```bash\n",
    "    git clone https://github.com/akeshavan/mindcontrol.git\n",
    "    ```\n",
    "\n",
    "3. Start the server\n",
    "\n",
    "    ```bash\n",
    "    cd mindcontrol\n",
    "    meteor\n",
    "    ```\n",
    "\n",
    "4. Navigate to http://localhost:3000 in your chrome browser.\n",
    "You should see the default entries loaded into the mindcontrol database. It should look like:\n",
    "\n",
    "    ![](images/mindcontrol_install_init.png)\n",
    "\n",
    "\n"
   ]
  },
  {
   "cell_type": "markdown",
   "metadata": {},
   "source": [
    "Here we see the \"Exams\" and \"Freesurfer\" modules. We are going to add a new module called \"Test\". First, we need to prepare our data"
   ]
  },
  {
   "cell_type": "markdown",
   "metadata": {},
   "source": [
    "# Preparing and Serving Data"
   ]
  },
  {
   "cell_type": "markdown",
   "metadata": {},
   "source": [
    "### Data organization\n",
    "\n",
    "Make sure your data has a consistent organization structure.  Your base directory should look like:\n",
    "    \n",
    "    /base/directory\n",
    "             |___ sub-01\n",
    "                   |___ anat\n",
    "                         |___ sub-01_T1w.nii.gz\n",
    "             |___ sub-02\n",
    "                   |___ anat\n",
    "                         |___ sub-01_T1w.nii.gz\n",
    "             |___ sub-03\n",
    "                   |___ anat\n",
    "                         |___ sub-01_T1w.nii.gz\n",
    "    "
   ]
  },
  {
   "cell_type": "markdown",
   "metadata": {},
   "source": [
    "This is the BIDS data organization, and you can find example at https://github.com/INCF/BIDS-examples. Pay close attention to you **`/base/directory`** -- this is where we will start a static server"
   ]
  },
  {
   "cell_type": "markdown",
   "metadata": {},
   "source": [
    "### Starting a static server"
   ]
  },
  {
   "cell_type": "markdown",
   "metadata": {},
   "source": [
    "In your **`/base/directory`**, create a file called **`start_static_server.py`**. Copy/paste the following into the file:\n",
    "\n",
    "```python\n",
    "#!/usr/bin/env python\n",
    "import http.server\n",
    "import os\n",
    "\n",
    "class MyHTTPRequestHandler(http.server.SimpleHTTPRequestHandler):\n",
    "    def end_headers(self):\n",
    "        self.send_header(\"Access-Control-Allow-Origin\", \"*\")\n",
    "        http.server.SimpleHTTPRequestHandler.end_headers(self)\n",
    "\n",
    "if __name__ == '__main__':\n",
    "        http.server.test(HandlerClass=MyHTTPRequestHandler, port=3002)\n",
    "```\n",
    "\n",
    "`cd` to **`/base/directory`** and run the static server:\n",
    "\n",
    "```bash\n",
    "python start_static_server.py\n",
    "```\n",
    "\n",
    "To test that it works, in your browser navigate to http://localhost:3002. You should see your directory structure"
   ]
  },
  {
   "cell_type": "markdown",
   "metadata": {
    "collapsed": true
   },
   "source": [
    "# Adding a New Module to Mindcontrol\n",
    "Modules are groupings of similar data that can be used to filter and organize subjects for editing. For example, all data that has been processed by FreeSurfer will appear in the FreeSurfer module. You can find all modules at the top left of the Mindcontrol home window ::\n",
    "\n",
    "![](images/mindcontrol_install_init_annot.png)"
   ]
  },
  {
   "cell_type": "markdown",
   "metadata": {},
   "source": [
    "Each module is defined in the ./mindcontrol/private/generator.json"
   ]
  }
 ],
 "metadata": {
  "kernelspec": {
   "display_name": "Python 3",
   "language": "python",
   "name": "python3"
  },
  "language_info": {
   "codemirror_mode": {
    "name": "ipython",
    "version": 3
   },
   "file_extension": ".py",
   "mimetype": "text/x-python",
   "name": "python",
   "nbconvert_exporter": "python",
   "pygments_lexer": "ipython3",
   "version": "3.5.1"
  }
 },
 "nbformat": 4,
 "nbformat_minor": 2
}
